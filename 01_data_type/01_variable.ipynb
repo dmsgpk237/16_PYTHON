{
 "cells": [
  {
   "cell_type": "markdown",
   "metadata": {},
   "source": [
    "# 01.변수\n",
    "---"
   ]
  },
  {
   "cell_type": "markdown",
   "metadata": {},
   "source": [
    "## 01_01. 변수 개요"
   ]
  },
  {
   "cell_type": "markdown",
   "metadata": {},
   "source": [
    "### 01_01-01. 변수란?\n",
    "* 프로그램에서 다루는 어떤 자료(정보)를 담는 공간이다.\n",
    "### 01_01_02. 변수 생성\n",
    "- 변수 생성은 대입 연산자 = 를 기준으로 좌항에는 변수의 이름, 우항에는 변수에 담을 자료를 작성한다. \n",
    "- 변수의 생성과 변수의 값 변경 모두 같은 방법으로 작성한다.\n",
    "- 파이썬은 변수 공간의 자료형 선언이 없다.\n",
    "\n",
    "ex) [변수명]=[데이터]"
   ]
  },
  {
   "cell_type": "markdown",
   "metadata": {},
   "source": [
    "## 01_02. 대입연산자\n",
    "### 01_02-01. 대입연산자 \"=\"\n",
    "* 대입 연산자를 기준으로 우항에 있는 값을 좌항의 변수 공간에 대입하는 의미를 가진다.\n",
    "* 대입 연산자의 우항에도 변수명이 올 수 있는데, 이 때 변수명은 공간이 아닌 값으로 인식한다.\n"
   ]
  },
  {
   "cell_type": "code",
   "execution_count": 3,
   "metadata": {},
   "outputs": [
    {
     "data": {
      "text/plain": [
       "'ohgiraffers!'"
      ]
     },
     "execution_count": 3,
     "metadata": {},
     "output_type": "execute_result"
    }
   ],
   "source": [
    "team_name = \"ohgiraffers!\"\n",
    "\n",
    "my_team = team_name\n",
    "\n",
    "my_team"
   ]
  },
  {
   "cell_type": "markdown",
   "metadata": {},
   "source": [
    "---"
   ]
  },
  {
   "cell_type": "markdown",
   "metadata": {},
   "source": [
    "## 01_03. 변수 이름 명명 규칙(중요)\n",
    "### 01_03-01. 암묵적 규칙\n",
    "1. 변수명은 변수에 담긴 값이 무엇인지 직관적으로 알 수 있게 적는다."
   ]
  },
  {
   "cell_type": "code",
   "execution_count": 4,
   "metadata": {},
   "outputs": [
    {
     "data": {
      "text/plain": [
       "165"
      ]
     },
     "execution_count": 4,
     "metadata": {},
     "output_type": "execute_result"
    }
   ],
   "source": [
    "# 키(cm) 정보를 변수에 담기\n",
    "\n",
    "my_height = 165\n",
    "my_height"
   ]
  },
  {
   "cell_type": "markdown",
   "metadata": {},
   "source": [
    "2. 변수명은 스네이크 케이스(소문자+언더바)로 작성하며, 대소문자를 구별한다.\n",
    "\n",
    "ex) teamName x -> team_name"
   ]
  },
  {
   "cell_type": "code",
   "execution_count": 10,
   "metadata": {},
   "outputs": [
    {
     "name": "stdout",
     "output_type": "stream",
     "text": [
      "오지라퍼스\n",
      "ohgiraffers\n"
     ]
    }
   ],
   "source": [
    "team_name = \"오지라퍼스\"\n",
    "Team_name = \"ohgiraffers\"\n",
    "\n",
    "print(team_name)\n",
    "print(Team_name)"
   ]
  },
  {
   "cell_type": "markdown",
   "metadata": {},
   "source": [
    "3. 한글 변수명을 지정할 수 있다. \n",
    "<br> => 하지만 인코딩 등의 문제를 야기할 수 있기 때문에 사용을 지양하는 것이 좋다."
   ]
  },
  {
   "cell_type": "code",
   "execution_count": 11,
   "metadata": {},
   "outputs": [
    {
     "data": {
      "text/plain": [
       "'꾸러기 로켓단'"
      ]
     },
     "execution_count": 11,
     "metadata": {},
     "output_type": "execute_result"
    }
   ],
   "source": [
    "우리팀 = \"꾸러기 로켓단\"\n",
    "\n",
    "우리팀"
   ]
  },
  {
   "cell_type": "markdown",
   "metadata": {},
   "source": [
    "### 01_03-02. 문법 오류를 야기하는 규칙<br>\n",
    "1. 영문과 숫자를 혼합해 작성할 수 있다. 하지만 숫자를 가장 앞에 작성할 수는 없다.\n",
    "- 숫자로만 구성하는 것도 불가능하다."
   ]
  },
  {
   "cell_type": "code",
   "execution_count": 15,
   "metadata": {},
   "outputs": [
    {
     "data": {
      "text/plain": [
       "'ohgiraffers'"
      ]
     },
     "execution_count": 15,
     "metadata": {},
     "output_type": "execute_result"
    }
   ],
   "source": [
    "team_1_name = 'ohgiraffers'\n",
    "\n",
    "# 숫자가 변수명 가장 앞에 위치할 수 없다.\n",
    "# 1_team_name = 'ohgiraffers'\n",
    "\n",
    "# 숫자로만 구성하는 것도 불가능하다\n",
    "#20241014 = 'ohgiraffer'\n",
    "\n",
    "# print(20241014)\n",
    "team_1_name"
   ]
  },
  {
   "cell_type": "markdown",
   "metadata": {},
   "source": [
    "2. 언더바(_)를 제외한 특수문자 사용은 불가하다."
   ]
  },
  {
   "cell_type": "code",
   "execution_count": 17,
   "metadata": {},
   "outputs": [],
   "source": [
    "# team_@_name = \"ohgiraffers\"\n",
    "\n",
    "# team_@_name"
   ]
  },
  {
   "cell_type": "markdown",
   "metadata": {},
   "source": [
    "3. 파이썬 예약어(if, else, while, ...)을 사용할 수 없다.\n",
    "<br> 예약어로 되어 있는 건 변수명으로 사용할 수 없다."
   ]
  },
  {
   "cell_type": "code",
   "execution_count": null,
   "metadata": {},
   "outputs": [],
   "source": [
    "# else = 'ohgiraffers'"
   ]
  }
 ],
 "metadata": {
  "kernelspec": {
   "display_name": "pylecture_env",
   "language": "python",
   "name": "python3"
  },
  "language_info": {
   "codemirror_mode": {
    "name": "ipython",
    "version": 3
   },
   "file_extension": ".py",
   "mimetype": "text/x-python",
   "name": "python",
   "nbconvert_exporter": "python",
   "pygments_lexer": "ipython3",
   "version": "3.12.7"
  }
 },
 "nbformat": 4,
 "nbformat_minor": 2
}

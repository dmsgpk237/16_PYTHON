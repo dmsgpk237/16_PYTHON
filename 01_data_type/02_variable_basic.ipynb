{
 "cells": [
  {
   "cell_type": "markdown",
   "metadata": {},
   "source": [
    "# 02. 기본 자료형"
   ]
  },
  {
   "cell_type": "markdown",
   "metadata": {},
   "source": [
    "---"
   ]
  },
  {
   "cell_type": "markdown",
   "metadata": {},
   "source": [
    "## 02-01. 숫자형 (Numeric)"
   ]
  },
  {
   "cell_type": "markdown",
   "metadata": {},
   "source": [
    "### 02_01-01. 숫자 자료형의 종류\n",
    "- 파이썬에서는 정수, 실수, 복소수등 숫자를 표현하는 자료형을 모두 숫자 자료형이라고 표현한다."
   ]
  },
  {
   "cell_type": "code",
   "execution_count": 2,
   "metadata": {},
   "outputs": [
    {
     "name": "stdout",
     "output_type": "stream",
     "text": [
      "<class 'int'>\n",
      "<class 'int'>\n",
      "<class 'int'>\n",
      "<class 'float'>\n",
      "<class 'complex'>\n"
     ]
    }
   ],
   "source": [
    "# int\n",
    "num1 = 1\n",
    "num2 = -1\n",
    "\n",
    "print(type(num1))\n",
    "print(type(num2))\n",
    "\n",
    "#float\n",
    "num3 = 3.14\n",
    "num4 = 1.0\n",
    "\n",
    "print(type(num1))\n",
    "print(type(num4))\n",
    "\n",
    "# complex\n",
    "num5 = 3 + 4j\n",
    "print(type(num5))\n",
    "\n"
   ]
  },
  {
   "cell_type": "markdown",
   "metadata": {},
   "source": [
    "### 02_01-02. 숫자 자료형의 연산\n",
    "- 숫자 자료형간에 기본적인 사칙연산과 파이썬에서만 가능한 특수연산을 할 수 있다."
   ]
  },
  {
   "cell_type": "code",
   "execution_count": 3,
   "metadata": {},
   "outputs": [
    {
     "name": "stdout",
     "output_type": "stream",
     "text": [
      "13\n",
      "7\n",
      "30\n",
      "3.3333333333333335\n"
     ]
    }
   ],
   "source": [
    "# 사칙연산\n",
    "num1 = 10\n",
    "num2 = 3\n",
    "\n",
    "print(num1 + num2)\n",
    "print(num1 - num2)\n",
    "print(num1 * num2)\n",
    "print(num1 / num2)"
   ]
  },
  {
   "cell_type": "code",
   "execution_count": 4,
   "metadata": {},
   "outputs": [
    {
     "name": "stdout",
     "output_type": "stream",
     "text": [
      "10.1\n",
      "9.9\n",
      "1.0\n",
      "100.0\n"
     ]
    }
   ],
   "source": [
    "# 서로 다른 자료형의 피연산자를 가질 경우 정수형을 실수형으로 자동 변환한다.\n",
    "\n",
    "num3 = 10\n",
    "num4 = 0.1\n",
    "\n",
    "print(num3 + num4)\n",
    "print(num3 - num4)\n",
    "print(num3 * num4)\n",
    "print(num3 / num4)"
   ]
  },
  {
   "cell_type": "code",
   "execution_count": 5,
   "metadata": {},
   "outputs": [
    {
     "name": "stdout",
     "output_type": "stream",
     "text": [
      "1.5714285714285714\n",
      "4\n",
      "1\n"
     ]
    }
   ],
   "source": [
    "# 나눗셈 나머지 연산과 몫 연산\n",
    "\n",
    "num1 = 11\n",
    "num2 = 7\n",
    "\n",
    "# 나눗셈 연산\n",
    "print(num1 / num2)\n",
    "\n",
    "# 나머지 연산\n",
    "print(num1 % num2)\n",
    "\n",
    "#몫만 구하는 연산\n",
    "print(num1 // num2)"
   ]
  },
  {
   "cell_type": "code",
   "execution_count": 7,
   "metadata": {},
   "outputs": [
    {
     "name": "stdout",
     "output_type": "stream",
     "text": [
      "729\n"
     ]
    }
   ],
   "source": [
    "# 제곱 연산\n",
    "\n",
    "base = 9\n",
    "exponent = 3\n",
    "\n",
    "print(base ** exponent)"
   ]
  },
  {
   "cell_type": "code",
   "execution_count": 8,
   "metadata": {},
   "outputs": [
    {
     "data": {
      "text/plain": [
       "4"
      ]
     },
     "execution_count": 8,
     "metadata": {},
     "output_type": "execute_result"
    }
   ],
   "source": [
    "# 값과 연산자 입력만으로 연산 수행 가능\n",
    "2 + 2"
   ]
  },
  {
   "cell_type": "markdown",
   "metadata": {},
   "source": [
    "---\n",
    "\n",
    "## 02_02. 논리형 (Boolean)\n",
    "\n",
    "### 02_02-01. 논리 자료형\n",
    "* true 또는 false 값을 가지는 자료형\n",
    "* 논리 자료형은 문자열이 아니기 때문에 따옴표(\",\")로 감싸서는 안 되며,\n",
    "<br> 첫 글자를 반드시 대문자로 해야한다.\n",
    "* 또한 논리 자료형은 자료형 자체로 사용하기도 하지만,\n",
    "<br> 비교 연산, 논리 연산의 결과로 논리 자료형이 반환된다."
   ]
  },
  {
   "cell_type": "code",
   "execution_count": 9,
   "metadata": {},
   "outputs": [
    {
     "name": "stdout",
     "output_type": "stream",
     "text": [
      "True\n",
      "False\n"
     ]
    }
   ],
   "source": [
    "boolean = True\n",
    "boolean2 = False\n",
    "print(boolean)\n",
    "print(boolean2)"
   ]
  },
  {
   "cell_type": "markdown",
   "metadata": {},
   "source": [
    "* 비교 연산\n",
    "- 비교 연산 : ==, !=, >, <, >=, <=\n",
    "    - == : 좌항과 우항의 값이 동일한지 비교하여, 같으면 True, 같지 않으면 False를 반환한다.\n",
    "    - != : 좌항과 우항의 값이 같지 않은지 비교하여, 서로 다르면 True, 같으면 False를 반환한다.\n",
    "    - \\>, < : 일반적으로 수학에서 사용하는 부등호와 같이 좌항과 우항의 크고 작음을 비교한다.\n",
    "    - \\>=, <= : 같거나 크다 또는 같거나 작다를 비교한다.\n"
   ]
  },
  {
   "cell_type": "code",
   "execution_count": 12,
   "metadata": {},
   "outputs": [
    {
     "name": "stdout",
     "output_type": "stream",
     "text": [
      "False\n",
      "True\n",
      "True\n",
      "False\n",
      "False\n",
      "True\n"
     ]
    }
   ],
   "source": [
    "print(1 == 3)\n",
    "print('ohgiraffers' != 'ohseof')\n",
    "print(100 > 99)\n",
    "print(100 < 99)\n",
    "print(0 >= 1)\n",
    "print(0 <= 1)"
   ]
  },
  {
   "cell_type": "code",
   "execution_count": 16,
   "metadata": {},
   "outputs": [
    {
     "name": "stdout",
     "output_type": "stream",
     "text": [
      "True\n",
      "False\n",
      "True\n",
      "True\n",
      "False\n"
     ]
    }
   ],
   "source": [
    "# 논리연산\n",
    "\n",
    "# and\n",
    "print(1 != 3 and 100 > 99 and True)\n",
    "print(1 != 3 and 100 > 101 and True)\n",
    "\n",
    "# or\n",
    "print(1 == 3 or 100 > 99 and True)\n",
    "\n",
    "# not\n",
    "# 불리언 값을 반전시킨다.\n",
    "print(not 'ohgiraffers' == 'Ohgiraffers')\n",
    "print(not True)"
   ]
  },
  {
   "cell_type": "markdown",
   "metadata": {},
   "source": [
    "---\n",
    "## 02_03. 문자형(String)\n",
    "### 02_03-01. 문자형 선언\n",
    "* 쌍따옴표(\"\")또는 홀따옴표('')를 사용하여 리터럴을 선언할 수 있다."
   ]
  },
  {
   "cell_type": "code",
   "execution_count": 18,
   "metadata": {},
   "outputs": [
    {
     "name": "stdout",
     "output_type": "stream",
     "text": [
      "kamja\n",
      "sara\n"
     ]
    }
   ],
   "source": [
    "my_name = 'kamja'\n",
    "my_namee = \"sara\"\n",
    "\n",
    "print(my_name)\n",
    "print(my_namee)"
   ]
  },
  {
   "cell_type": "markdown",
   "metadata": {},
   "source": [
    "* 삼중 따옴표를 사용해 여러줄(멀티라인)을 출력할 수 있다."
   ]
  },
  {
   "cell_type": "code",
   "execution_count": 20,
   "metadata": {},
   "outputs": [
    {
     "name": "stdout",
     "output_type": "stream",
     "text": [
      "\n",
      "세상에서 제일 긴 게 뭘까요?\n",
      "기차? 기린의 목? 코끼리의 코?\n",
      "전부 아닙니다. 여러분의 무한한 가능성입니다~\n",
      "\n"
     ]
    }
   ],
   "source": [
    "print(\"\"\"\n",
    "세상에서 제일 긴 게 뭘까요?\n",
    "기차? 기린의 목? 코끼리의 코?\n",
    "전부 아닙니다. 여러분의 무한한 가능성입니다~\n",
    "\"\"\")"
   ]
  },
  {
   "cell_type": "markdown",
   "metadata": {},
   "source": [
    "### 02_03-02. 문자형 연산"
   ]
  },
  {
   "cell_type": "code",
   "execution_count": 23,
   "metadata": {},
   "outputs": [
    {
     "name": "stdout",
     "output_type": "stream",
     "text": [
      "아버지가방에 들어가신다.\n",
      "아버지가 방에 들어가신다.\n"
     ]
    }
   ],
   "source": [
    "# 문자열 이어붙이기\n",
    "\n",
    "str1 = \"아버지가\"\n",
    "str2 = \"방에 들어가신다.\"\n",
    "\n",
    "print(str1 + str2)\n",
    "print(str1 + ' ' + str2)"
   ]
  },
  {
   "cell_type": "code",
   "execution_count": 24,
   "metadata": {},
   "outputs": [
    {
     "name": "stdout",
     "output_type": "stream",
     "text": [
      "900살입니다\n"
     ]
    }
   ],
   "source": [
    "# 다른 자료형과 연산 불가 (자동형변환이 불가)\n",
    "# print(900 + \"살\" + \"입니다\")\n",
    "\n",
    "print(str(900) + \"살\" + \"입니다\")"
   ]
  },
  {
   "cell_type": "code",
   "execution_count": 29,
   "metadata": {},
   "outputs": [
    {
     "name": "stdout",
     "output_type": "stream",
     "text": [
      "나는 python을 잘 할 수 있다! \n",
      "나는 python을 잘 할 수 있다! \n",
      "나는 python을 잘 할 수 있다! \n",
      "\n"
     ]
    }
   ],
   "source": [
    "# 문자열 반복하기 : *\n",
    "\n",
    "subject = 'python'\n",
    "print((\"나는\" + ' ' + subject + \"을 잘 할 수 있다! \\n\")*3)"
   ]
  },
  {
   "cell_type": "markdown",
   "metadata": {},
   "source": [
    "## 02_03_03. 문자형의 메서드"
   ]
  },
  {
   "cell_type": "code",
   "execution_count": null,
   "metadata": {},
   "outputs": [],
   "source": [
    "# replace()\n",
    "# 문자를 찾아서 바꿀 때 사용한다.\n",
    "enroll_date = '2024/12/16'\n",
    "rep_enroll_date = enroll_date.replace(\"/\", \"-\")\n",
    "\n",
    "print"
   ]
  },
  {
   "cell_type": "code",
   "execution_count": 33,
   "metadata": {},
   "outputs": [
    {
     "name": "stdout",
     "output_type": "stream",
     "text": [
      "oh         gi          raffers\n",
      "h         gi          raffers\n",
      "hgiraffer\n",
      "hgiraffers\n",
      "ohgiraffer\n"
     ]
    }
   ],
   "source": [
    "# strip()\n",
    "# 문장을 제거할 때 사용한다.\n",
    "# 기본적으로는 공백을 지워준다.\n",
    "\n",
    "origin = 'ohgiraffers'\n",
    "with_white_space = '                    oh         gi          raffers'\n",
    "\n",
    "# 인자 생략 => 공백 제거\n",
    "print(with_white_space.strip())\n",
    "\n",
    "# '             o'까지 제거\n",
    "print(with_white_space.strip('               o'))\n",
    "\n",
    "print(origin.strip('os'))\n",
    "\n",
    "# lstrip() - 왼쪽만 제거\n",
    "print(origin.lstrip('os'))\n",
    "\n",
    "# rstrip() - 오른쪽만 제거\n",
    "print(origin.rstrip('os'))"
   ]
  },
  {
   "cell_type": "code",
   "execution_count": 35,
   "metadata": {},
   "outputs": [
    {
     "name": "stdout",
     "output_type": "stream",
     "text": [
      "HELLO WORLD\n",
      "hello world\n",
      "Hello world\n",
      "Hello World\n",
      "Hello World\n"
     ]
    }
   ],
   "source": [
    "# 대소문자 관련 메서드\n",
    "\n",
    "origin_str = \"hELLO wORLD\"\n",
    "\n",
    "print(origin_str.upper())\n",
    "print(origin_str.lower())\n",
    "print(origin_str.capitalize())\n",
    "print(origin_str.swapcase())\n",
    "print(origin_str.title())"
   ]
  },
  {
   "cell_type": "markdown",
   "metadata": {},
   "source": [
    "### 02_03-04. 문자형 포맷팅\n",
    "\n",
    "1. % 포맷팅 : 변수 포맷을 사용해 문자열에 변수 값을 삽입한다. (오래된 방식)\n",
    "- 변수 포맷 종류\n",
    "    - %s : 문자열\n",
    "    - %c : 문자\n",
    "    - %d : 정수\n",
    "    - %f : 실수\n"
   ]
  },
  {
   "cell_type": "code",
   "execution_count": 36,
   "metadata": {},
   "outputs": [
    {
     "name": "stdout",
     "output_type": "stream",
     "text": [
      "x is 10\n",
      "y is code\n"
     ]
    }
   ],
   "source": [
    "x = 10\n",
    "print('x is %d' %x)\n",
    "\n",
    "y = 'code'\n",
    "print('y is %s' %y)"
   ]
  },
  {
   "cell_type": "code",
   "execution_count": 39,
   "metadata": {},
   "outputs": [
    {
     "name": "stdout",
     "output_type": "stream",
     "text": [
      "10\n",
      "code\n",
      "x is 10\n"
     ]
    }
   ],
   "source": [
    "x, y = 10, 'code'\n",
    "\n",
    "print(x)\n",
    "print(y)\n",
    "\n",
    "print(\"x is {0}\".format(x))\n",
    "\n",
    "# x is 에 들어가는 숫자 0은 인덱스라고 생각하면 됨"
   ]
  },
  {
   "cell_type": "markdown",
   "metadata": {},
   "source": [
    "3. f-string: 파이썬 3.6 이상부터 사용 가능하며, 문자열 앞에 f를 붙여 사용한다."
   ]
  },
  {
   "cell_type": "code",
   "execution_count": 40,
   "metadata": {},
   "outputs": [
    {
     "name": "stdout",
     "output_type": "stream",
     "text": [
      "안녕하세요 곰 강사입니다!\n"
     ]
    }
   ],
   "source": [
    "teacher_name = '곰'\n",
    "print(f\"안녕하세요 {teacher_name} 강사입니다!\")"
   ]
  },
  {
   "cell_type": "markdown",
   "metadata": {},
   "source": [
    "### 02_04-01. 주석의 종류"
   ]
  },
  {
   "cell_type": "code",
   "execution_count": null,
   "metadata": {},
   "outputs": [],
   "source": [
    "# 한줄 주석\n",
    "\n",
    "# 그냥 이렇게 작성, 주석은 해석하지 않기 때문에 에러가 발생하지 않는다."
   ]
  },
  {
   "cell_type": "code",
   "execution_count": 44,
   "metadata": {},
   "outputs": [
    {
     "name": "stdout",
     "output_type": "stream",
     "text": [
      "여기만 출력된다\n"
     ]
    }
   ],
   "source": [
    "# 여러줄 주석\n",
    "'''\n",
    "삼중 따옴표를 사용하면\n",
    "구간에 걸친 모든 문장에 주석이 적용된다.\n",
    "큰 따옴표로 해도 동일하게 적용된다.\n",
    "\n",
    "print('출력되지 않는다')\n",
    "'''\n",
    "\n",
    "print('여기만 출력된다')"
   ]
  },
  {
   "cell_type": "markdown",
   "metadata": {},
   "source": [
    "---\n",
    "## 02_05. 형변환\n",
    "\n",
    "### 02_05-01. 형변환이란?\n",
    "- 서로 다른 자료형 간의 연산을 위해 다른 자료형으로 타입을 변환하는 것"
   ]
  },
  {
   "cell_type": "code",
   "execution_count": 48,
   "metadata": {},
   "outputs": [
    {
     "name": "stdout",
     "output_type": "stream",
     "text": [
      "4\n",
      "8.0\n"
     ]
    }
   ],
   "source": [
    "# 암시적 형 변환\n",
    "\n",
    "print(True + 3)\n",
    "# true는 1로 변환이 돼서 합하면 4가 나온다.\n",
    "\n",
    "print(3 + 5.0)\n",
    "#print(3 + '5') 문자랑은 형변환 안 됨."
   ]
  },
  {
   "cell_type": "code",
   "execution_count": 56,
   "metadata": {},
   "outputs": [
    {
     "name": "stdout",
     "output_type": "stream",
     "text": [
      "7\n",
      "7.5\n"
     ]
    }
   ],
   "source": [
    "# 명시적 형변환\n",
    "# str, float = int (단, 형식에 맞는 문자열만 정수로 변환 가능)\n",
    "\n",
    "print(int('3') + 4)\n",
    "# print(int('3a') + 4)\n",
    "\n",
    "print(float('3.5') + 4) # 문자열의 형태가 정수가 아니라 실수이기 때문에 형변환 가능\n"
   ]
  },
  {
   "cell_type": "code",
   "execution_count": 57,
   "metadata": {},
   "outputs": [
    {
     "name": "stdout",
     "output_type": "stream",
     "text": [
      "3.0\n"
     ]
    }
   ],
   "source": [
    "#str, int => float (단, 형식에 맞는 문자열만 실수로 변환 가능)\n",
    "print(float('3'))"
   ]
  },
  {
   "cell_type": "code",
   "execution_count": 58,
   "metadata": {},
   "outputs": [
    {
     "name": "stdout",
     "output_type": "stream",
     "text": [
      "1\n",
      "1.0\n",
      "{1, 2, 3}\n"
     ]
    }
   ],
   "source": [
    "# int, float, list, tuple, dict => str (문자열로는 전부 다 변환 가능하다.)\n",
    "print(str(1))\n",
    "print(str(1.0))\n",
    "print({1, 2, 3}) # 집합"
   ]
  }
 ],
 "metadata": {
  "kernelspec": {
   "display_name": "pylecture_env",
   "language": "python",
   "name": "python3"
  },
  "language_info": {
   "codemirror_mode": {
    "name": "ipython",
    "version": 3
   },
   "file_extension": ".py",
   "mimetype": "text/x-python",
   "name": "python",
   "nbconvert_exporter": "python",
   "pygments_lexer": "ipython3",
   "version": "3.12.7"
  }
 },
 "nbformat": 4,
 "nbformat_minor": 2
}

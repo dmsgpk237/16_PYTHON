{
 "cells": [
  {
   "cell_type": "markdown",
   "metadata": {},
   "source": [
    "# 01. 조건문\n",
    "---\n",
    "## 01_01. 조건문 개요\n",
    "### 01_01-01. 조건문이란?\n",
    "\n",
    "- 조건에 따라 수행할 코드를 다르게 작성하는 방법으로, 파이썬 키워드를 사용하여 작성한다.\n",
    "- 조건문 작성에는 조건식이 필요하며, 조건식은 True 혹은 False의 결과를 내는 구문을 의미한다."
   ]
  },
  {
   "cell_type": "code",
   "execution_count": 4,
   "metadata": {},
   "outputs": [],
   "source": [
    "# my_name = 'bear'\n",
    "my_name = input('이름을 입력하세요 : ')\n",
    "\n",
    "if(my_name == 'bear') :\n",
    "    print(f'제 이름은 {my_name} 입니다.')"
   ]
  },
  {
   "cell_type": "markdown",
   "metadata": {},
   "source": [
    "---\n",
    "## 01_02. 조건문 if\n",
    "### 01_02-01. if\n",
    "- if 키워드 위의 조건식의 결과 값이 참(True)이면 실행구문을 실행한다.\n",
    "- 파이썬에서는 조건식 뒤에 콜론을 붙이고 \"반드시\" 들여쓰기(공백 4칸 또는 tap)로 실행구문을\n",
    "<br> 식별할 수 있도록 작성해야 한다."
   ]
  },
  {
   "cell_type": "code",
   "execution_count": null,
   "metadata": {},
   "outputs": [],
   "source": [
    "if 조건식:\n",
    "    (실행구문)"
   ]
  },
  {
   "cell_type": "code",
   "execution_count": 6,
   "metadata": {},
   "outputs": [
    {
     "name": "stdout",
     "output_type": "stream",
     "text": [
      "우리 선생님은 호랑이 선생님이 아닙니다.\n"
     ]
    }
   ],
   "source": [
    "my_teacher = 'bear'\n",
    "\n",
    "if my_teacher == 'tiger' : \n",
    "    print('우리 선생님은 호랑이 선생님입니다.')\n",
    "else :\n",
    "    print('우리 선생님은 호랑이 선생님이 아닙니다.')"
   ]
  },
  {
   "cell_type": "markdown",
   "metadata": {},
   "source": [
    "elif(if-elif-else)\n",
    "* elif는 1개 이상 사용 할 수 있다.\n",
    "* 각 각의 경우에 수행할 내용을 구분할 수 있도록 **\"반드시\"** 들여쓰기를 해주어야 한다.\n"
   ]
  },
  {
   "cell_type": "code",
   "execution_count": 7,
   "metadata": {},
   "outputs": [
    {
     "name": "stdout",
     "output_type": "stream",
     "text": [
      "우리 선생님은 곰 선생님입니다.\n"
     ]
    }
   ],
   "source": [
    "my_teacher = 'bear'\n",
    "\n",
    "if my_teacher == 'tiger' : \n",
    "    print('우리 선생님은 호랑이 선생님입니다.')\n",
    "elif my_teacher == 'bear':\n",
    "    print('우리 선생님은 곰 선생님입니다.')\n",
    "else :\n",
    "    print('우리 선생님은 호랑이 선생님이 아닙니다.')"
   ]
  },
  {
   "cell_type": "markdown",
   "metadata": {},
   "source": [
    "---"
   ]
  },
  {
   "cell_type": "markdown",
   "metadata": {},
   "source": [
    "## 01_03. 조건문 match\n",
    "### 01_03-01. match-case\n",
    "* 주어진 값을 case 블록의 값과 비교해 일치하는 case만 실행한다."
   ]
  },
  {
   "cell_type": "code",
   "execution_count": 8,
   "metadata": {},
   "outputs": [
    {
     "name": "stdout",
     "output_type": "stream",
     "text": [
      "호랑이 선생님의 메타버스에 오신 것을 환영합니다.\n",
      "매일3시간의 수면이 예상됩니다.\n"
     ]
    }
   ],
   "source": [
    "input_teacher = input('만나고 싶은 선생님을 입력해주세요')\n",
    "\n",
    "sleep_time = 0;\n",
    "match input_teacher :\n",
    "    case 'tiger':\n",
    "        print('호랑이 선생님의 메타버스에 오신 것을 환영합니다.')\n",
    "        sleep_time = 3\n",
    "    case 'bear':\n",
    "        print('곰 선생님의 적자생존 랩에 오신 것을 환영합니다.')\n",
    "        sleep_time = 5\n",
    "    case _:\n",
    "        print(\"공부할 마음이 없으신 건 아니죠?\")\n",
    "        \n",
    "print(\"매일\" + str(sleep_time) + \"시간의 수면이 예상됩니다.\")"
   ]
  },
  {
   "cell_type": "code",
   "execution_count": 15,
   "metadata": {},
   "outputs": [
    {
     "name": "stdout",
     "output_type": "stream",
     "text": [
      "11 49\n"
     ]
    }
   ],
   "source": [
    "h, m = map(int, input().split())\n",
    "\n",
    "if m < 45 and h > 0:\n",
    "    print(h-1, 60-(45-m))\n",
    "elif h == 0 and m < 45:\n",
    "    h = 24\n",
    "    print(h-1, 60-(45-m))\n",
    "elif h == 0 and m > 45:\n",
    "    print(h, 60-(45-m))\n",
    "elif m < 0 or m > 59 or h < 0 or h > 23:\n",
    "    print(\"시간이 잘못 입력됐습니다.\")\n",
    "else:\n",
    "    (\"알 수 없는 오류입니다.\")"
   ]
  },
  {
   "cell_type": "code",
   "execution_count": 19,
   "metadata": {},
   "outputs": [
    {
     "name": "stdout",
     "output_type": "stream",
     "text": [
      "24 65\n",
      "0 65\n"
     ]
    }
   ],
   "source": [
    "h, m = map(int, input().split())\n",
    "t = int(input())\n",
    "\n",
    "# 12시일 때 0으로 바뀌는 조건\n",
    "# 60분일 때 시간이 +1 되는 조건\n",
    "\n",
    "if m+t > 59:\n",
    "    h = h + 1\n",
    "    m = m+t-60\n",
    "    print(h, m)\n",
    "    if h == 24:\n",
    "        h = 0\n",
    "        print(h, m)"
   ]
  },
  {
   "cell_type": "code",
   "execution_count": 23,
   "metadata": {},
   "outputs": [
    {
     "name": "stdout",
     "output_type": "stream",
     "text": [
      "1600\n"
     ]
    }
   ],
   "source": [
    "a, b, c = map(int, input().split())\n",
    "\n",
    "if a == b == c:\n",
    "    print(10000 + a * 1000)\n",
    "elif a == b or a == c:\n",
    "    print(1000 + a * 100)\n",
    "elif b == c:\n",
    "    print(1000 + b * 100)\n",
    "elif a != b and a != c and b != c:\n",
    "    x = max(a, b, c)\n",
    "    print(x*100)"
   ]
  }
 ],
 "metadata": {
  "kernelspec": {
   "display_name": "pylecture_env",
   "language": "python",
   "name": "python3"
  },
  "language_info": {
   "codemirror_mode": {
    "name": "ipython",
    "version": 3
   },
   "file_extension": ".py",
   "mimetype": "text/x-python",
   "name": "python",
   "nbconvert_exporter": "python",
   "pygments_lexer": "ipython3",
   "version": "3.12.7"
  }
 },
 "nbformat": 4,
 "nbformat_minor": 2
}

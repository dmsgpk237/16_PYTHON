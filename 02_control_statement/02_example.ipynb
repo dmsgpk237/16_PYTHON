{
 "cells": [
  {
   "cell_type": "code",
   "execution_count": 2,
   "metadata": {},
   "outputs": [
    {
     "name": "stdout",
     "output_type": "stream",
     "text": [
      "5\n",
      "9\n",
      "13\n",
      "17\n"
     ]
    }
   ],
   "source": [
    "# 1. while 루프를 사용하여 사용자가 '종료'를 입력할 때까지 계속해서\n",
    "# 사용자의 입력을 받고 출력하는 프로그램을 작성하세요.\n",
    "\n",
    "\n",
    "set_num = int(input(\"1부터 10까지 원하는 숫자를 입력하세요 : (종료를 원할 때는 0을 입력하세요)\"))\n",
    "\n",
    "i = set_num\n",
    "while i <= 20 :\n",
    "    print(i)\n",
    "    i += 4\n",
    "\n"
   ]
  },
  {
   "cell_type": "code",
   "execution_count": null,
   "metadata": {},
   "outputs": [],
   "source": [
    "# 2. for 루프와 range() 함수를 사용하여 1부터 20까지의 짝수만 출력하는 프로그램을 작성하세요."
   ]
  },
  {
   "cell_type": "code",
   "execution_count": null,
   "metadata": {},
   "outputs": [],
   "source": [
    "# 3. 다음 리스트에서 각 동물의 이름과 글자 수를 출력하는 프로그램을 작성하세요:\n",
    "\n",
    "animals = ['고양이', '강아지', '코끼리', '기린']"
   ]
  }
 ],
 "metadata": {
  "kernelspec": {
   "display_name": "pylecture_env",
   "language": "python",
   "name": "python3"
  },
  "language_info": {
   "codemirror_mode": {
    "name": "ipython",
    "version": 3
   },
   "file_extension": ".py",
   "mimetype": "text/x-python",
   "name": "python",
   "nbconvert_exporter": "python",
   "pygments_lexer": "ipython3",
   "version": "3.12.7"
  }
 },
 "nbformat": 4,
 "nbformat_minor": 2
}

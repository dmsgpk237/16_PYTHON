{
 "cells": [
  {
   "cell_type": "code",
   "execution_count": 23,
   "metadata": {},
   "outputs": [
    {
     "name": "stdout",
     "output_type": "stream",
     "text": [
      "입력하신 123, 4556, 23의 곱은 : 12888924입니다.\n"
     ]
    }
   ],
   "source": [
    "# 여러 개의 숫자를 입력받아 모두 곱한 결과를 반환하는 multiply_all 함수를 만드세요.\n",
    "\n",
    "number1 = int(input())\n",
    "number2 = int(input())\n",
    "number3 = int(input())\n",
    "\n",
    "print(f'입력하신 {number1}, {number2}, {number3}의 곱은 : {number1*number2*number3}입니다.')\n"
   ]
  },
  {
   "cell_type": "code",
   "execution_count": 6,
   "metadata": {},
   "outputs": [
    {
     "name": "stdout",
     "output_type": "stream",
     "text": [
      "입력하신 숫자 -9은(는) 음수입니다.\n"
     ]
    }
   ],
   "source": [
    "# 숫자를 입력받아 \n",
    "num = int(input(\"숫자를 입력하세요\"))\n",
    "\n",
    "# 양수인지 음수인지 0인지 판별하는 check_number 함수를\n",
    "def check_number(num) :\n",
    "    if num > 0:\n",
    "        return f'입력하신 숫자 {num}은(는) 양수입니다.'\n",
    "    elif num == 0:\n",
    "        return f'입력하신 숫자 {num}은(는) 0입니다.'\n",
    "    else:\n",
    "        return f'입력하신 숫자 {num}은(는) 음수입니다.'\n",
    "\n",
    "# 삼항 연산자를 사용하여 만드세요.\n",
    "def check_number(num):\n",
    "    return f'입력하신 숫자 {num}은(는) 양수입니다.' if num > 0 else f'입력하신 숫자 {num}은(는) 음수입니다.' if num < 0 else f'입력하신 숫자 {num}은(는) 0입니다.'\n",
    "\n",
    "print(check_number(num))\n"
   ]
  },
  {
   "cell_type": "code",
   "execution_count": 11,
   "metadata": {},
   "outputs": [
    {
     "name": "stdout",
     "output_type": "stream",
     "text": [
      "1의 제곱은 :  1\n",
      "2의 제곱은 :  4\n",
      "3의 제곱은 :  9\n",
      "4의 제곱은 :  16\n",
      "5의 제곱은 :  25\n"
     ]
    }
   ],
   "source": [
    "# 주어진 리스트의 각 요소를 제곱하는 람다 함수를 작성하세요.\n",
    "\n",
    "numbers = [1, 2, 3, 4, 5]\n",
    "\n",
    "for number in numbers:\n",
    "    print(f'{number}의 제곱은 : ', number ** 2)\n"
   ]
  }
 ],
 "metadata": {
  "kernelspec": {
   "display_name": "pylecture_env",
   "language": "python",
   "name": "python3"
  },
  "language_info": {
   "codemirror_mode": {
    "name": "ipython",
    "version": 3
   },
   "file_extension": ".py",
   "mimetype": "text/x-python",
   "name": "python",
   "nbconvert_exporter": "python",
   "pygments_lexer": "ipython3",
   "version": "3.12.7"
  }
 },
 "nbformat": 4,
 "nbformat_minor": 2
}

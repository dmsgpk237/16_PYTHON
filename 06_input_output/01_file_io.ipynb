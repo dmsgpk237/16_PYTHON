{
 "cells": [
  {
   "cell_type": "markdown",
   "metadata": {},
   "source": [
    "# 01. 파일 입출력\n",
    "---\n",
    "## 01_01. 파일 접근\n",
    "### 01_01-01. 파일 열기 open()\n",
    "\n",
    "- 인자로 경로를 포함한 파일명과 파일 열기 모드를 알파벳으로 전달하면서 호출하면, 파일 객체를 반환하는 함수\n",
    "\n",
    "- 첫 번째 매개변수 : 파일명(경로 포함)\n",
    "- 두 번째 매개변수 : 파일 열기 모드를 설정\n",
    "    - r : 읽기 모드\n",
    "    - w : 쓰기 모드 (덮어쓰기), 기존 파일이 없으면 새로운 파일이 생성된다.\n",
    "    - a : 수정 모드 (파일 끝에 내용 추가)"
   ]
  },
  {
   "cell_type": "code",
   "execution_count": 7,
   "metadata": {},
   "outputs": [],
   "source": [
    "f = open('song.txt', 'r')"
   ]
  },
  {
   "cell_type": "markdown",
   "metadata": {},
   "source": [
    "### 01_01-02. 파일 닫기 : close()\n",
    "- 열려있는 파일 객체를 닫아주는 역할"
   ]
  },
  {
   "cell_type": "code",
   "execution_count": 8,
   "metadata": {},
   "outputs": [],
   "source": [
    "f.close()"
   ]
  },
  {
   "cell_type": "markdown",
   "metadata": {},
   "source": [
    "## 01_02. 파일 쓰기\n",
    "### 01_02-01. write()\n",
    "- open한 파일 객체에 대해 write() 메소드를 사용하면, 인자로 넘겨준 하나의 문자열을 파일에 작성한다."
   ]
  },
  {
   "cell_type": "code",
   "execution_count": 11,
   "metadata": {},
   "outputs": [],
   "source": [
    "f = open('song_test.txt', 'w')\n",
    "\n",
    "f.write('그대 춤을 추는 나무 같아요')\n",
    "\n",
    "f.close()"
   ]
  },
  {
   "cell_type": "markdown",
   "metadata": {},
   "source": [
    "### 01_02-02. writelines()\n",
    "- 인자로 넘겨준 리스트의 요소를 하나씩 파일에 작성한다."
   ]
  },
  {
   "cell_type": "code",
   "execution_count": 12,
   "metadata": {},
   "outputs": [],
   "source": [
    "data = [\n",
    "'그대 춤을 추는 나무 같아요 \\n'\n",
    "'그 안에 투박한 음악은 나예요 \\n'\n",
    "\n",
    "'네 곁에만 움츠린 두려움들도 \\n'\n",
    "'애틋한 그림이 되겠죠 \\n'\n",
    "'그럼 돼요 \\n'\n",
    "]\n",
    "\n",
    "f = open('song_test.txt', 'w')\n",
    "\n",
    "f.writelines(data)\n",
    "\n",
    "f.close()"
   ]
  },
  {
   "cell_type": "markdown",
   "metadata": {},
   "source": [
    "---\n",
    "## 01_03. 파일 읽기\n",
    "### 01_03-01. 파일 전체 읽기 read()\n",
    "- 파일 전체 내용을 읽어와 하나의 문자열로 반환한다."
   ]
  },
  {
   "cell_type": "code",
   "execution_count": 14,
   "metadata": {},
   "outputs": [
    {
     "name": "stdout",
     "output_type": "stream",
     "text": [
      "인사 하네요 근심없게\n",
      "나 아름다운 방식으로\n",
      "\n",
      "무딘 목소리와\n",
      "어설픈 자국들\n",
      "화려하게 장식해줘요\n",
      "\n",
      "그대 춤을 추는 나무 같아요\n",
      "그 안에 투박한 음악은 나예요\n",
      "\n",
      "네 곁에만 움츠린 두려움들도\n",
      "애틋한 그림이 되겠죠\n",
      "\n",
      "그럼 돼요\n",
      "\n",
      "La la la la la la la la la\n",
      "La la la la la la la la la\n"
     ]
    }
   ],
   "source": [
    "f = open('song.txt', 'r')\n",
    "data = f.read()\n",
    "\n",
    "print(data)\n",
    "\n",
    "f.close()"
   ]
  },
  {
   "cell_type": "markdown",
   "metadata": {},
   "source": [
    "### 01_03-02. 파일에서 한 줄만 읽기 : readline()\n"
   ]
  },
  {
   "cell_type": "code",
   "execution_count": 16,
   "metadata": {},
   "outputs": [
    {
     "name": "stdout",
     "output_type": "stream",
     "text": [
      "인사 하네요 근심없게\n",
      "\n",
      "나 아름다운 방식으로\n",
      "\n",
      "\n",
      "\n",
      "무딘 목소리와\n",
      "\n",
      "어설픈 자국들\n",
      "\n",
      "화려하게 장식해줘요\n",
      "\n",
      "\n",
      "\n",
      "그대 춤을 추는 나무 같아요\n",
      "\n",
      "그 안에 투박한 음악은 나예요\n",
      "\n",
      "\n",
      "\n",
      "네 곁에만 움츠린 두려움들도\n",
      "\n",
      "애틋한 그림이 되겠죠\n",
      "\n",
      "\n",
      "\n",
      "그럼 돼요\n",
      "\n",
      "\n",
      "\n",
      "La la la la la la la la la\n",
      "\n",
      "La la la la la la la la la\n"
     ]
    }
   ],
   "source": [
    "f = open('song.txt', 'r')\n",
    "\n",
    "while True:\n",
    "    data = f.readline()\n",
    "    \n",
    "    if not data:\n",
    "        break\n",
    "    print(data)\n",
    "\n",
    "f.close()"
   ]
  },
  {
   "cell_type": "code",
   "execution_count": 17,
   "metadata": {},
   "outputs": [
    {
     "name": "stdout",
     "output_type": "stream",
     "text": [
      "['인사 하네요 근심없게\\n', '나 아름다운 방식으로\\n', '\\n', '무딘 목소리와\\n', '어설픈 자국들\\n', '화려하게 장식해줘요\\n', '\\n', '그대 춤을 추는 나무 같아요\\n', '그 안에 투박한 음악은 나예요\\n', '\\n', '네 곁에만 움츠린 두려움들도\\n', '애틋한 그림이 되겠죠\\n', '\\n', '그럼 돼요\\n', '\\n', 'La la la la la la la la la\\n', 'La la la la la la la la la']\n"
     ]
    }
   ],
   "source": [
    "#  파일 전체를 줄마다 (리스트 형태로) 가져오기\n",
    "\n",
    "f = open('song.txt', 'r')\n",
    "\n",
    "data = f.readlines()\n",
    "    \n",
    "print(data)\n",
    "\n",
    "f.close()"
   ]
  },
  {
   "cell_type": "markdown",
   "metadata": {},
   "source": [
    "---\n",
    "## 01_04. 파일 내용 추가하기\n",
    "### 01_04-01. 파일 내용 추가 모드\n",
    "- 추가모드 'a'를 사용하여 파일을 열어 내용을 추가할 수 있다.\n",
    "- 쓰기모드 'w'로 파일을 열 때 이미 존재하는 파일을 열게 되면 그 파일의 원래 내용이 사라진다."
   ]
  },
  {
   "cell_type": "code",
   "execution_count": 22,
   "metadata": {},
   "outputs": [],
   "source": [
    "f = open('song.txt', 'a')\n",
    "\n",
    "f.write('\\n노래끗-!')\n",
    "\n",
    "f.close()"
   ]
  },
  {
   "cell_type": "code",
   "execution_count": 23,
   "metadata": {},
   "outputs": [
    {
     "name": "stdout",
     "output_type": "stream",
     "text": [
      "인사 하네요 근심없게\n",
      "\n",
      "나 아름다운 방식으로\n",
      "\n",
      "\n",
      "\n",
      "무딘 목소리와\n",
      "\n",
      "어설픈 자국들\n",
      "\n",
      "화려하게 장식해줘요\n",
      "\n",
      "\n",
      "\n",
      "그대 춤을 추는 나무 같아요\n",
      "\n",
      "그 안에 투박한 음악은 나예요\n",
      "\n",
      "\n",
      "\n",
      "네 곁에만 움츠린 두려움들도\n",
      "\n",
      "애틋한 그림이 되겠죠\n",
      "\n",
      "\n",
      "\n",
      "그럼 돼요\n",
      "\n",
      "\n",
      "\n",
      "La la la la la la la la la\n",
      "\n",
      "La la la la la la la la la\n",
      "\n",
      " 노래끗-!\n"
     ]
    }
   ],
   "source": [
    "f = open('song.txt', 'r')\n",
    "\n",
    "while True:\n",
    "    data = f.readline()\n",
    "    \n",
    "    if not data:\n",
    "        break\n",
    "    print(data)\n",
    "\n",
    "f.close()"
   ]
  },
  {
   "cell_type": "markdown",
   "metadata": {},
   "source": [
    "---\n",
    "## 01_05. with 키워드\n",
    "- 파일을 열어서 사용하고 사용이 종료되면 닫는 역할을 한다.\n",
    "- with문을 사용하면 with 블록을 벗어나는 순간, 객체가 닫히게 된다."
   ]
  },
  {
   "cell_type": "code",
   "execution_count": 24,
   "metadata": {},
   "outputs": [],
   "source": [
    "with open(\"song_test.txt\", \"w\") as f:\n",
    "    f.write(\"Life is so cool, Life is so cool oh yeah~\")"
   ]
  }
 ],
 "metadata": {
  "kernelspec": {
   "display_name": "pylecture_env",
   "language": "python",
   "name": "python3"
  },
  "language_info": {
   "codemirror_mode": {
    "name": "ipython",
    "version": 3
   },
   "file_extension": ".py",
   "mimetype": "text/x-python",
   "name": "python",
   "nbconvert_exporter": "python",
   "pygments_lexer": "ipython3",
   "version": "3.12.7"
  }
 },
 "nbformat": 4,
 "nbformat_minor": 2
}
